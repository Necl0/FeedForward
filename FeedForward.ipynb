{
  "nbformat": 4,
  "nbformat_minor": 0,
  "metadata": {
    "colab": {
      "name": "FeedForward.ipynb",
      "provenance": [],
      "authorship_tag": "ABX9TyPiu0x/3X83C10FEVNHdS6m",
      "include_colab_link": true
    },
    "kernelspec": {
      "name": "python3",
      "display_name": "Python 3"
    },
    "language_info": {
      "name": "python"
    }
  },
  "cells": [
    {
      "cell_type": "markdown",
      "metadata": {
        "id": "view-in-github",
        "colab_type": "text"
      },
      "source": [
        "<a href=\"https://colab.research.google.com/github/Necl0/NNScratch/blob/main/FeedForward.ipynb\" target=\"_parent\"><img src=\"https://colab.research.google.com/assets/colab-badge.svg\" alt=\"Open In Colab\"/></a>"
      ]
    },
    {
      "cell_type": "code",
      "execution_count": 51,
      "metadata": {
        "colab": {
          "base_uri": "https://localhost:8080/"
        },
        "id": "ji8c5meLXg91",
        "outputId": "6264e8e8-200a-41de-f19e-b2f1eb11e03e"
      },
      "outputs": [
        {
          "name": "stdout",
          "output_type": "stream",
          "text": [
            "How many layers are in the network? 3\n",
            "How many nodes in layer 1? 2\n",
            "How many nodes in layer 2? 4\n",
            "How many nodes in layer 3? 1\n",
            "Enter in the threshold: 1000\n",
            "\n",
            "Enter in the inputs for the first layer (2 inputs): 1 1\n"
          ]
        }
      ],
      "source": [
        "from dataclasses import dataclass\n",
        "from typing import List\n",
        "import numpy as np\n",
        "from random import uniform\n",
        "\n",
        "layer_n = int(input(\"How many layers are in the network? \"))\n",
        "layer_inputs, layer_weights = [], []\n",
        "\n",
        "for layer in range(1, layer_n+1):\n",
        "  nodes = int(input(f\"How many nodes in layer {layer}? \"))\n",
        "  layer_inputs.append([float() for i in range(nodes)])\n",
        "  layer_weights.append([uniform(0, 1) for i in range((nodes))])\n",
        "\n",
        "\n",
        "bias = [uniform(0.0, 0.1) for j in range(layer_n)]\n",
        "threshold = float(input(\"Enter in the threshold: \"))\n",
        "\n",
        "layer_one = [*map(float, input(f\"\\nEnter in the inputs for the first layer ({len(layer_inputs[0])} inputs): \").split())]\n",
        "layer_inputs[0] = layer_one"
      ]
    },
    {
      "cell_type": "code",
      "source": [
        "\n",
        "@dataclass\n",
        "class NeuralNetwork:\n",
        "  \"\"\"Neural Network class\"\"\"\n",
        "  layer_n: int\n",
        "  layer_inputs: List[List[int]]\n",
        "  layer_weights: List[List[float]]\n",
        "  bias: List[float]\n",
        "  threshold: float\n",
        "\n",
        "def relu( num: int) -> int:\n",
        "  \"\"\"Relu activation function: all layers except last\"\"\"\n",
        "  return max(0, num)\n",
        "\n",
        "def sigmoid(num: int) -> float:\n",
        "  \"\"\"Sigmoid activation function: last layer\"\"\"\n",
        "  return 1/(1+np.exp(-num))\n",
        "\n",
        "@dataclass\n",
        "class Perceptron:\n",
        "  \"\"\"Perceptron Class\"\"\"\n",
        "  inputs: List[int]\n",
        "  weights: List[int]\n",
        "  bias: List[float]\n",
        "  threshold: int\n",
        "\n",
        "\n",
        "def percepOutput(inputs: List[List[int]], weights: List[List[float]], bias: List[float], treshold: float) -> int:\n",
        "    return int(relu(np.dot(inputs, weights) + bias > threshold))\n",
        "\n",
        "n1 = NeuralNetwork(layer_n, layer_inputs, layer_weights, bias, threshold)"
      ],
      "metadata": {
        "id": "SoxNCtrkbIr3"
      },
      "execution_count": 52,
      "outputs": []
    },
    {
      "cell_type": "code",
      "source": [
        "def forwardFeed(network) -> List[List[int]]:\n",
        "  \"\"\"Forward Feed function\"\"\"\n",
        "  # iterate through each layer\n",
        "  for i in range(1, network.layer_n): \n",
        "    # iterate through each perceptron  \n",
        "    c = 0\n",
        "    for percep in network.layer_inputs[i]:\n",
        "      network.layer_inputs[i][c] = percepOutput(network.layer_inputs[i-1], network.layer_weights[i-1], network.bias[i-1], network.threshold)\n",
        "      c+=1\n",
        "  return network.layer_inputs\n",
        "\n"
      ],
      "metadata": {
        "id": "42IKTOa2y65l"
      },
      "execution_count": 58,
      "outputs": []
    },
    {
      "cell_type": "code",
      "source": [
        "output = forwardFeed(n1)\n",
        "\n",
        "print(f\"The output from the Neural Network is {output[-1][0]}\")"
      ],
      "metadata": {
        "colab": {
          "base_uri": "https://localhost:8080/"
        },
        "id": "ovH7zYeZvfKE",
        "outputId": "e26ec877-6167-4cf9-807d-0c94aff1fa27"
      },
      "execution_count": 59,
      "outputs": [
        {
          "output_type": "stream",
          "name": "stdout",
          "text": [
            "The output from the Neural Network is 0\n"
          ]
        }
      ]
    }
  ]
}